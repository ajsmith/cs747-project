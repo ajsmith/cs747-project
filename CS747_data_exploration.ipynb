{
  "nbformat": 4,
  "nbformat_minor": 0,
  "metadata": {
    "colab": {
      "provenance": []
    },
    "kernelspec": {
      "name": "python3",
      "display_name": "Python 3"
    },
    "language_info": {
      "name": "python"
    },
    "accelerator": "GPU",
    "gpuClass": "standard"
  },
  "cells": [
    {
      "cell_type": "code",
      "source": [
        "#Setup for colab to have access to the files, etc.\n",
        "from google.colab import drive\n",
        "drive.mount('/content/drive')\n",
        "\n",
        "# Insert the directory\n",
        "import sys\n",
        "sys.path.insert(0,'/content/drive/My Drive/')\n",
        "\n",
        "import os\n",
        "os.chdir(\"/content/drive/My Drive/\")"
      ],
      "metadata": {
        "colab": {
          "base_uri": "https://localhost:8080/"
        },
        "id": "bo1amx9ApqQb",
        "outputId": "fb57328c-f60b-4514-c29c-9992dc4b8192"
      },
      "execution_count": 1,
      "outputs": [
        {
          "output_type": "stream",
          "name": "stdout",
          "text": [
            "Mounted at /content/drive\n"
          ]
        }
      ]
    },
    {
      "cell_type": "code",
      "execution_count": 2,
      "metadata": {
        "colab": {
          "base_uri": "https://localhost:8080/"
        },
        "id": "OX4qBjChouUD",
        "outputId": "e00cc7df-f710-433b-9e30-abbdb707e9b5"
      },
      "outputs": [
        {
          "output_type": "stream",
          "name": "stdout",
          "text": [
            "Looking in indexes: https://pypi.org/simple, https://us-python.pkg.dev/colab-wheels/public/simple/\n",
            "Requirement already satisfied: torch in /usr/local/lib/python3.9/dist-packages (2.0.0+cu118)\n",
            "Requirement already satisfied: typing-extensions in /usr/local/lib/python3.9/dist-packages (from torch) (4.5.0)\n",
            "Requirement already satisfied: sympy in /usr/local/lib/python3.9/dist-packages (from torch) (1.11.1)\n",
            "Requirement already satisfied: triton==2.0.0 in /usr/local/lib/python3.9/dist-packages (from torch) (2.0.0)\n",
            "Requirement already satisfied: jinja2 in /usr/local/lib/python3.9/dist-packages (from torch) (3.1.2)\n",
            "Requirement already satisfied: filelock in /usr/local/lib/python3.9/dist-packages (from torch) (3.11.0)\n",
            "Requirement already satisfied: networkx in /usr/local/lib/python3.9/dist-packages (from torch) (3.1)\n",
            "Requirement already satisfied: lit in /usr/local/lib/python3.9/dist-packages (from triton==2.0.0->torch) (16.0.1)\n",
            "Requirement already satisfied: cmake in /usr/local/lib/python3.9/dist-packages (from triton==2.0.0->torch) (3.25.2)\n",
            "Requirement already satisfied: MarkupSafe>=2.0 in /usr/local/lib/python3.9/dist-packages (from jinja2->torch) (2.1.2)\n",
            "Requirement already satisfied: mpmath>=0.19 in /usr/local/lib/python3.9/dist-packages (from sympy->torch) (1.3.0)\n",
            "Looking in indexes: https://pypi.org/simple, https://us-python.pkg.dev/colab-wheels/public/simple/\n",
            "Collecting biopython\n",
            "  Downloading biopython-1.81-cp39-cp39-manylinux_2_17_x86_64.manylinux2014_x86_64.whl (3.1 MB)\n",
            "\u001b[2K     \u001b[90m━━━━━━━━━━━━━━━━━━━━━━━━━━━━━━━━━━━━━━━━\u001b[0m \u001b[32m3.1/3.1 MB\u001b[0m \u001b[31m29.9 MB/s\u001b[0m eta \u001b[36m0:00:00\u001b[0m\n",
            "\u001b[?25hRequirement already satisfied: numpy in /usr/local/lib/python3.9/dist-packages (from biopython) (1.22.4)\n",
            "Installing collected packages: biopython\n",
            "Successfully installed biopython-1.81\n"
          ]
        }
      ],
      "source": [
        "!pip install torch\n",
        "!pip install biopython"
      ]
    },
    {
      "cell_type": "code",
      "source": [
        "import pandas as pd\n",
        "\n",
        "data_frame = pd.read_csv('labeled_sequences.csv')\n"
      ],
      "metadata": {
        "id": "XUDZEgAHo3KD"
      },
      "execution_count": 3,
      "outputs": []
    },
    {
      "cell_type": "code",
      "source": [
        "len(data_frame)"
      ],
      "metadata": {
        "colab": {
          "base_uri": "https://localhost:8080/"
        },
        "id": "FIMOoVZhp7Fb",
        "outputId": "ab37563e-57b3-47d3-efb7-fd2265f0facd"
      },
      "execution_count": 4,
      "outputs": [
        {
          "output_type": "execute_result",
          "data": {
            "text/plain": [
              "74632"
            ]
          },
          "metadata": {},
          "execution_count": 4
        }
      ]
    },
    {
      "cell_type": "code",
      "source": [
        "data_frame.shape"
      ],
      "metadata": {
        "colab": {
          "base_uri": "https://localhost:8080/"
        },
        "id": "IBLL_DSgp_Fg",
        "outputId": "8da897f1-d873-424b-87c5-ed3b533df90f"
      },
      "execution_count": 5,
      "outputs": [
        {
          "output_type": "execute_result",
          "data": {
            "text/plain": [
              "(74632, 8)"
            ]
          },
          "metadata": {},
          "execution_count": 5
        }
      ]
    },
    {
      "cell_type": "code",
      "source": [
        "data_frame.head()"
      ],
      "metadata": {
        "colab": {
          "base_uri": "https://localhost:8080/",
          "height": 443
        },
        "id": "JoGum92NqBZE",
        "outputId": "f31d84b1-57a2-4044-94f5-132be21b76be"
      },
      "execution_count": 6,
      "outputs": [
        {
          "output_type": "execute_result",
          "data": {
            "text/plain": [
              "   db unique_id   entry_name                            protein_name  \\\n",
              "0  sp    A6UW25   TRPB_META3          Tryptophan synthase beta chain   \n",
              "1  sp    Q57998   Y578_METJA          Uncharacterized protein MJ0578   \n",
              "2  sp    Q59033  Y1639_METJA          Uncharacterized protein MJ1639   \n",
              "3  sp    Q5JGR4   RS28_THEKO              30S ribosomal protein S28e   \n",
              "4  sp    Q5JI38  SPEBH_THEKO  N(1)-aminopropylagmatine ureohydrolase   \n",
              "\n",
              "                                       organism_name  organism_id  \\\n",
              "0  Methanococcus aeolicus (strain ATCC BAA-1280 /...       419665   \n",
              "1  Methanocaldococcus jannaschii (strain ATCC 430...       243232   \n",
              "2  Methanocaldococcus jannaschii (strain ATCC 430...       243232   \n",
              "3  Thermococcus kodakarensis (strain ATCC BAA-918...        69014   \n",
              "4  Thermococcus kodakarensis (strain ATCC BAA-918...        69014   \n",
              "\n",
              "                                            sequence    label  \n",
              "0  MEYKFGEYGGQYVPEVLMPSLKELEKAYKKYKDDPEFKEELEYYLK...  Archaea  \n",
              "1  MDYLGIIMKIAIISGKGGVGKSSISTSLAKLFSKEFNIVALDCDVD...  Archaea  \n",
              "2  MYFVIKGDSIMYFVLRLGGDLSLYIPAKYRPFFEPLDKNSPYNIKV...  Archaea  \n",
              "3  MSDEGYPAEVIEIVGRTGVTGGVTQVKVRILEGRDKGRVIRRNVKG...  Archaea  \n",
              "4  MEFLYTYETLKLEFPLVEPEKARFILLGVPFDGTTSYKAGARFGPT...  Archaea  "
            ],
            "text/html": [
              "\n",
              "  <div id=\"df-7f03062b-a671-4557-b555-93ccdc717fe1\">\n",
              "    <div class=\"colab-df-container\">\n",
              "      <div>\n",
              "<style scoped>\n",
              "    .dataframe tbody tr th:only-of-type {\n",
              "        vertical-align: middle;\n",
              "    }\n",
              "\n",
              "    .dataframe tbody tr th {\n",
              "        vertical-align: top;\n",
              "    }\n",
              "\n",
              "    .dataframe thead th {\n",
              "        text-align: right;\n",
              "    }\n",
              "</style>\n",
              "<table border=\"1\" class=\"dataframe\">\n",
              "  <thead>\n",
              "    <tr style=\"text-align: right;\">\n",
              "      <th></th>\n",
              "      <th>db</th>\n",
              "      <th>unique_id</th>\n",
              "      <th>entry_name</th>\n",
              "      <th>protein_name</th>\n",
              "      <th>organism_name</th>\n",
              "      <th>organism_id</th>\n",
              "      <th>sequence</th>\n",
              "      <th>label</th>\n",
              "    </tr>\n",
              "  </thead>\n",
              "  <tbody>\n",
              "    <tr>\n",
              "      <th>0</th>\n",
              "      <td>sp</td>\n",
              "      <td>A6UW25</td>\n",
              "      <td>TRPB_META3</td>\n",
              "      <td>Tryptophan synthase beta chain</td>\n",
              "      <td>Methanococcus aeolicus (strain ATCC BAA-1280 /...</td>\n",
              "      <td>419665</td>\n",
              "      <td>MEYKFGEYGGQYVPEVLMPSLKELEKAYKKYKDDPEFKEELEYYLK...</td>\n",
              "      <td>Archaea</td>\n",
              "    </tr>\n",
              "    <tr>\n",
              "      <th>1</th>\n",
              "      <td>sp</td>\n",
              "      <td>Q57998</td>\n",
              "      <td>Y578_METJA</td>\n",
              "      <td>Uncharacterized protein MJ0578</td>\n",
              "      <td>Methanocaldococcus jannaschii (strain ATCC 430...</td>\n",
              "      <td>243232</td>\n",
              "      <td>MDYLGIIMKIAIISGKGGVGKSSISTSLAKLFSKEFNIVALDCDVD...</td>\n",
              "      <td>Archaea</td>\n",
              "    </tr>\n",
              "    <tr>\n",
              "      <th>2</th>\n",
              "      <td>sp</td>\n",
              "      <td>Q59033</td>\n",
              "      <td>Y1639_METJA</td>\n",
              "      <td>Uncharacterized protein MJ1639</td>\n",
              "      <td>Methanocaldococcus jannaschii (strain ATCC 430...</td>\n",
              "      <td>243232</td>\n",
              "      <td>MYFVIKGDSIMYFVLRLGGDLSLYIPAKYRPFFEPLDKNSPYNIKV...</td>\n",
              "      <td>Archaea</td>\n",
              "    </tr>\n",
              "    <tr>\n",
              "      <th>3</th>\n",
              "      <td>sp</td>\n",
              "      <td>Q5JGR4</td>\n",
              "      <td>RS28_THEKO</td>\n",
              "      <td>30S ribosomal protein S28e</td>\n",
              "      <td>Thermococcus kodakarensis (strain ATCC BAA-918...</td>\n",
              "      <td>69014</td>\n",
              "      <td>MSDEGYPAEVIEIVGRTGVTGGVTQVKVRILEGRDKGRVIRRNVKG...</td>\n",
              "      <td>Archaea</td>\n",
              "    </tr>\n",
              "    <tr>\n",
              "      <th>4</th>\n",
              "      <td>sp</td>\n",
              "      <td>Q5JI38</td>\n",
              "      <td>SPEBH_THEKO</td>\n",
              "      <td>N(1)-aminopropylagmatine ureohydrolase</td>\n",
              "      <td>Thermococcus kodakarensis (strain ATCC BAA-918...</td>\n",
              "      <td>69014</td>\n",
              "      <td>MEFLYTYETLKLEFPLVEPEKARFILLGVPFDGTTSYKAGARFGPT...</td>\n",
              "      <td>Archaea</td>\n",
              "    </tr>\n",
              "  </tbody>\n",
              "</table>\n",
              "</div>\n",
              "      <button class=\"colab-df-convert\" onclick=\"convertToInteractive('df-7f03062b-a671-4557-b555-93ccdc717fe1')\"\n",
              "              title=\"Convert this dataframe to an interactive table.\"\n",
              "              style=\"display:none;\">\n",
              "        \n",
              "  <svg xmlns=\"http://www.w3.org/2000/svg\" height=\"24px\"viewBox=\"0 0 24 24\"\n",
              "       width=\"24px\">\n",
              "    <path d=\"M0 0h24v24H0V0z\" fill=\"none\"/>\n",
              "    <path d=\"M18.56 5.44l.94 2.06.94-2.06 2.06-.94-2.06-.94-.94-2.06-.94 2.06-2.06.94zm-11 1L8.5 8.5l.94-2.06 2.06-.94-2.06-.94L8.5 2.5l-.94 2.06-2.06.94zm10 10l.94 2.06.94-2.06 2.06-.94-2.06-.94-.94-2.06-.94 2.06-2.06.94z\"/><path d=\"M17.41 7.96l-1.37-1.37c-.4-.4-.92-.59-1.43-.59-.52 0-1.04.2-1.43.59L10.3 9.45l-7.72 7.72c-.78.78-.78 2.05 0 2.83L4 21.41c.39.39.9.59 1.41.59.51 0 1.02-.2 1.41-.59l7.78-7.78 2.81-2.81c.8-.78.8-2.07 0-2.86zM5.41 20L4 18.59l7.72-7.72 1.47 1.35L5.41 20z\"/>\n",
              "  </svg>\n",
              "      </button>\n",
              "      \n",
              "  <style>\n",
              "    .colab-df-container {\n",
              "      display:flex;\n",
              "      flex-wrap:wrap;\n",
              "      gap: 12px;\n",
              "    }\n",
              "\n",
              "    .colab-df-convert {\n",
              "      background-color: #E8F0FE;\n",
              "      border: none;\n",
              "      border-radius: 50%;\n",
              "      cursor: pointer;\n",
              "      display: none;\n",
              "      fill: #1967D2;\n",
              "      height: 32px;\n",
              "      padding: 0 0 0 0;\n",
              "      width: 32px;\n",
              "    }\n",
              "\n",
              "    .colab-df-convert:hover {\n",
              "      background-color: #E2EBFA;\n",
              "      box-shadow: 0px 1px 2px rgba(60, 64, 67, 0.3), 0px 1px 3px 1px rgba(60, 64, 67, 0.15);\n",
              "      fill: #174EA6;\n",
              "    }\n",
              "\n",
              "    [theme=dark] .colab-df-convert {\n",
              "      background-color: #3B4455;\n",
              "      fill: #D2E3FC;\n",
              "    }\n",
              "\n",
              "    [theme=dark] .colab-df-convert:hover {\n",
              "      background-color: #434B5C;\n",
              "      box-shadow: 0px 1px 3px 1px rgba(0, 0, 0, 0.15);\n",
              "      filter: drop-shadow(0px 1px 2px rgba(0, 0, 0, 0.3));\n",
              "      fill: #FFFFFF;\n",
              "    }\n",
              "  </style>\n",
              "\n",
              "      <script>\n",
              "        const buttonEl =\n",
              "          document.querySelector('#df-7f03062b-a671-4557-b555-93ccdc717fe1 button.colab-df-convert');\n",
              "        buttonEl.style.display =\n",
              "          google.colab.kernel.accessAllowed ? 'block' : 'none';\n",
              "\n",
              "        async function convertToInteractive(key) {\n",
              "          const element = document.querySelector('#df-7f03062b-a671-4557-b555-93ccdc717fe1');\n",
              "          const dataTable =\n",
              "            await google.colab.kernel.invokeFunction('convertToInteractive',\n",
              "                                                     [key], {});\n",
              "          if (!dataTable) return;\n",
              "\n",
              "          const docLinkHtml = 'Like what you see? Visit the ' +\n",
              "            '<a target=\"_blank\" href=https://colab.research.google.com/notebooks/data_table.ipynb>data table notebook</a>'\n",
              "            + ' to learn more about interactive tables.';\n",
              "          element.innerHTML = '';\n",
              "          dataTable['output_type'] = 'display_data';\n",
              "          await google.colab.output.renderOutput(dataTable, element);\n",
              "          const docLink = document.createElement('div');\n",
              "          docLink.innerHTML = docLinkHtml;\n",
              "          element.appendChild(docLink);\n",
              "        }\n",
              "      </script>\n",
              "    </div>\n",
              "  </div>\n",
              "  "
            ]
          },
          "metadata": {},
          "execution_count": 6
        }
      ]
    },
    {
      "cell_type": "code",
      "source": [
        "data = [(row['sequence'], row['label']) for _, row in data_frame.iterrows()]"
      ],
      "metadata": {
        "id": "gvdwz-aYqETv"
      },
      "execution_count": 7,
      "outputs": []
    },
    {
      "cell_type": "code",
      "source": [
        "from sklearn.model_selection import train_test_split\n",
        "\n",
        "train_data, test_data = train_test_split(data, test_size=0.2, random_state=42)\n",
        "train_data, valid_data = train_test_split(train_data, test_size=0.2, random_state=42)"
      ],
      "metadata": {
        "id": "C8Y0igAsqHOJ"
      },
      "execution_count": 8,
      "outputs": []
    },
    {
      "cell_type": "code",
      "source": [
        "num_labels = len(set(data_frame['label']))\n",
        "print(f'Number of labels: {num_labels}')"
      ],
      "metadata": {
        "colab": {
          "base_uri": "https://localhost:8080/"
        },
        "id": "v8TzLPQ6qJ8w",
        "outputId": "e5252ae2-7f1a-456f-911d-23c6f49131dd"
      },
      "execution_count": 9,
      "outputs": [
        {
          "output_type": "stream",
          "name": "stdout",
          "text": [
            "Number of labels: 8\n"
          ]
        }
      ]
    },
    {
      "cell_type": "code",
      "source": [
        "!pip install --upgrade pip"
      ],
      "metadata": {
        "colab": {
          "base_uri": "https://localhost:8080/"
        },
        "id": "FxVBMqlAqqvF",
        "outputId": "074f47f1-5e05-4c9c-9409-e7bb1e4ceddb"
      },
      "execution_count": 10,
      "outputs": [
        {
          "output_type": "stream",
          "name": "stdout",
          "text": [
            "Looking in indexes: https://pypi.org/simple, https://us-python.pkg.dev/colab-wheels/public/simple/\n",
            "Requirement already satisfied: pip in /usr/local/lib/python3.9/dist-packages (23.0.1)\n",
            "Collecting pip\n",
            "  Downloading pip-23.1-py3-none-any.whl (2.1 MB)\n",
            "\u001b[2K     \u001b[90m━━━━━━━━━━━━━━━━━━━━━━━━━━━━━━━━━━━━━━━━\u001b[0m \u001b[32m2.1/2.1 MB\u001b[0m \u001b[31m25.1 MB/s\u001b[0m eta \u001b[36m0:00:00\u001b[0m\n",
            "\u001b[?25hInstalling collected packages: pip\n",
            "  Attempting uninstall: pip\n",
            "    Found existing installation: pip 23.0.1\n",
            "    Uninstalling pip-23.0.1:\n",
            "      Successfully uninstalled pip-23.0.1\n",
            "Successfully installed pip-23.1\n"
          ]
        }
      ]
    },
    {
      "cell_type": "code",
      "source": [
        "!pip install git+https://github.com/facebookresearch/esm.git"
      ],
      "metadata": {
        "colab": {
          "base_uri": "https://localhost:8080/"
        },
        "id": "ruZlEVBOrpzx",
        "outputId": "05da2532-3975-4d7d-a878-20d0d6e9308d"
      },
      "execution_count": 11,
      "outputs": [
        {
          "output_type": "stream",
          "name": "stdout",
          "text": [
            "Looking in indexes: https://pypi.org/simple, https://us-python.pkg.dev/colab-wheels/public/simple/\n",
            "Collecting git+https://github.com/facebookresearch/esm.git\n",
            "  Cloning https://github.com/facebookresearch/esm.git to /tmp/pip-req-build-g_znnc18\n",
            "  Running command git clone --filter=blob:none --quiet https://github.com/facebookresearch/esm.git /tmp/pip-req-build-g_znnc18\n",
            "  Resolved https://github.com/facebookresearch/esm.git to commit a944dc53a9774e5ebfab4be1a395c2c516325e37\n",
            "  Installing build dependencies ... \u001b[?25l\u001b[?25hdone\n",
            "  Getting requirements to build wheel ... \u001b[?25l\u001b[?25hdone\n",
            "  Preparing metadata (pyproject.toml) ... \u001b[?25l\u001b[?25hdone\n",
            "Building wheels for collected packages: fair-esm\n",
            "  Building wheel for fair-esm (pyproject.toml) ... \u001b[?25l\u001b[?25hdone\n",
            "  Created wheel for fair-esm: filename=fair_esm-2.0.1-py3-none-any.whl size=104639 sha256=5c891e7face056f18ae927d2919840c7b21188163dd3e5b0cd451b54f326b6bf\n",
            "  Stored in directory: /tmp/pip-ephem-wheel-cache-bs5zsg69/wheels/6e/14/f7/66c6a330030b05645f124b280232f6d20445a2956af58efd39\n",
            "Successfully built fair-esm\n",
            "Installing collected packages: fair-esm\n",
            "Successfully installed fair-esm-2.0.1\n",
            "\u001b[33mWARNING: Running pip as the 'root' user can result in broken permissions and conflicting behaviour with the system package manager. It is recommended to use a virtual environment instead: https://pip.pypa.io/warnings/venv\u001b[0m\u001b[33m\n",
            "\u001b[0m"
          ]
        }
      ]
    },
    {
      "cell_type": "code",
      "source": [
        "import esm"
      ],
      "metadata": {
        "id": "qNVQux62rqOl"
      },
      "execution_count": 12,
      "outputs": []
    },
    {
      "cell_type": "code",
      "source": [
        "model, alphabet = esm.pretrained.esm1b_t33_650M_UR50S()\n"
      ],
      "metadata": {
        "colab": {
          "base_uri": "https://localhost:8080/"
        },
        "id": "Hg02TTFUtxb0",
        "outputId": "2eed2a73-9b0b-475d-d258-c9971c13dabd"
      },
      "execution_count": 13,
      "outputs": [
        {
          "output_type": "stream",
          "name": "stderr",
          "text": [
            "Downloading: \"https://dl.fbaipublicfiles.com/fair-esm/models/esm1b_t33_650M_UR50S.pt\" to /root/.cache/torch/hub/checkpoints/esm1b_t33_650M_UR50S.pt\n",
            "Downloading: \"https://dl.fbaipublicfiles.com/fair-esm/regression/esm1b_t33_650M_UR50S-contact-regression.pt\" to /root/.cache/torch/hub/checkpoints/esm1b_t33_650M_UR50S-contact-regression.pt\n"
          ]
        }
      ]
    },
    {
      "cell_type": "code",
      "source": [
        "# Freeze the weights of the initial layers\n",
        "for param in model.parameters():\n",
        "    param.requires_grad = False\n"
      ],
      "metadata": {
        "id": "tz2jyutttc51"
      },
      "execution_count": 14,
      "outputs": []
    },
    {
      "cell_type": "code",
      "source": [
        "# Replace the final layers with new layers for our task\n",
        "import torch\n",
        "num_classes = 8\n",
        "model.classification_head = torch.nn.Linear(1280, num_classes)"
      ],
      "metadata": {
        "id": "SpkT1ilUL8hG"
      },
      "execution_count": 15,
      "outputs": []
    },
    {
      "cell_type": "code",
      "source": [
        "# Load and preprocess the data\n",
        "df = pd.read_csv('labeled_sequences.csv')\n",
        "sequences = df['sequence'].tolist()\n",
        "labels = df['label'].tolist()\n",
        "\n",
        "inputs = []\n",
        "for sequence in sequences:\n",
        "    encoded_sequence = alphabet.encode(sequence)\n",
        "    inputs.append(encoded_sequence)"
      ],
      "metadata": {
        "id": "pK4OQZPGMJ1U"
      },
      "execution_count": 24,
      "outputs": []
    },
    {
      "cell_type": "code",
      "source": [
        "# Split the data into training, validation, and test sets\n",
        "# 74632\n",
        "train_inputs, val_inputs, test_inputs = inputs[:50000], inputs[50000:64000], inputs[64000:]\n",
        "train_labels, val_labels, test_labels = labels[:50000], labels[50000:64000], labels[64000:]\n"
      ],
      "metadata": {
        "id": "xKEBBgN2OoNY"
      },
      "execution_count": 25,
      "outputs": []
    },
    {
      "cell_type": "code",
      "source": [],
      "metadata": {
        "id": "6UZIKCEZtud3"
      },
      "execution_count": null,
      "outputs": []
    }
  ]
}